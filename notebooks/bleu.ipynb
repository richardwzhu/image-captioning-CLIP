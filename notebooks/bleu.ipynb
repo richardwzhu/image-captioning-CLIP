{
 "cells": [
  {
   "cell_type": "code",
   "execution_count": 1,
   "metadata": {
    "collapsed": true
   },
   "outputs": [],
   "source": [
    "import evaluate\n",
    "\n",
    "bleu = evaluate.load('bleu')"
   ]
  },
  {
   "cell_type": "code",
   "execution_count": 2,
   "outputs": [],
   "source": [
    "references = [\n",
    "    ['little boy looking through a telescope on playground equipment with the sun glaring off the pole his hand is on .',\n",
    "     'A child is looking through a pretend telescope on playground equipment in front of a blue sky .',\n",
    "     'A little blond boy is looking through a yellow telescope .',\n",
    "     'A child looking through a telescope on a playground .',\n",
    "     'A kid with blond-hair using a telescope .']\n",
    "]"
   ],
   "metadata": {
    "collapsed": false
   }
  },
  {
   "cell_type": "code",
   "execution_count": 3,
   "outputs": [
    {
     "name": "stdout",
     "output_type": "stream",
     "text": [
      "{'bleu': 0.19144753383270305, 'precisions': [0.4507042253521127, 0.21212121212121213, 0.13114754098360656, 0.10714285714285714], 'brevity_penalty': 1.0, 'length_ratio': 1.775, 'translation_length': 71, 'reference_length': 40}\n"
     ]
    }
   ],
   "source": [
    "# Experiment 0\n",
    "predictions = [\n",
    "    'A child is looking through a fence or gate .',\n",
    "    'Person watching a child as they play .',\n",
    "    'Two individuals on a beach jumping up with their arms and legs spread wide open .',\n",
    "    'A boy has climbed to the top of a slide .',\n",
    "    'Two children are looking through a telescope on a city street , and the boy is using a step ladder to see through the eyeglass .',\n",
    "]\n",
    "\n",
    "results = bleu.compute(predictions=predictions, references=references*len(predictions))\n",
    "print(results)"
   ],
   "metadata": {
    "collapsed": false
   }
  },
  {
   "cell_type": "code",
   "execution_count": 4,
   "outputs": [
    {
     "name": "stdout",
     "output_type": "stream",
     "text": [
      "{'bleu': 0.0, 'precisions': [0.3492063492063492, 0.017241379310344827, 0.0, 0.0], 'brevity_penalty': 1.0, 'length_ratio': 1.575, 'translation_length': 63, 'reference_length': 40}\n"
     ]
    }
   ],
   "source": [
    "# Experiment 1\n",
    "predictions = [\n",
    "    'The lights at night in the city .',\n",
    "    'a white dog with brown and black markings frolics in snow .',\n",
    "    'A man and a woman playfully fight and hang from support railings in a subway car .',\n",
    "    'people stop and stare at a large statue .',\n",
    "    'An officer in a reflective vest stands at the front of his van with his dog .'\n",
    "]\n",
    "\n",
    "results = bleu.compute(predictions=predictions, references=references*len(predictions))\n",
    "print(results)"
   ],
   "metadata": {
    "collapsed": false
   }
  },
  {
   "cell_type": "code",
   "execution_count": 5,
   "outputs": [
    {
     "name": "stdout",
     "output_type": "stream",
     "text": [
      "{'bleu': 0.0, 'precisions': [0.4461538461538462, 0.06666666666666667, 0.0, 0.0], 'brevity_penalty': 1.0, 'length_ratio': 1.625, 'translation_length': 65, 'reference_length': 40}\n"
     ]
    }
   ],
   "source": [
    "# Experiment 2\n",
    "predictions = [\n",
    "    'A baby in blue pants is sitting on a red slide .',\n",
    "    'A person on a ladder with a baby underneath .',\n",
    "    'A small child wearing light blue overalls sits on a red slide .',\n",
    "    'Girl with green tank top standing in the middle of a train track with multicolor train cars to the right .',\n",
    "    'Boy in yellow shirt sitting in yellow playground slide'\n",
    "]\n",
    "\n",
    "results = bleu.compute(predictions=predictions, references=references*len(predictions))\n",
    "print(results)"
   ],
   "metadata": {
    "collapsed": false
   }
  },
  {
   "cell_type": "code",
   "execution_count": 6,
   "outputs": [
    {
     "name": "stdout",
     "output_type": "stream",
     "text": [
      "{'bleu': 0.0, 'precisions': [0.4492753623188406, 0.109375, 0.0, 0.0], 'brevity_penalty': 1.0, 'length_ratio': 1.725, 'translation_length': 69, 'reference_length': 40}\n"
     ]
    }
   ],
   "source": [
    "# Experiment 3\n",
    "predictions = [\n",
    "    'A woman and baby are sitting in the window seat of a bus .',\n",
    "    'A group of people in hazmat suits are standing with a dummy on a stretcher .',\n",
    "    'A small boy wearing glasses and a hat is looking at something and smiling .',\n",
    "    'A little boy puts his face up to the uniquely-shaped window .',\n",
    "    'A little boy stands up next to a window and cries .'\n",
    "]\n",
    "\n",
    "results = bleu.compute(predictions=predictions, references=references*len(predictions))\n",
    "print(results)"
   ],
   "metadata": {
    "collapsed": false
   }
  },
  {
   "cell_type": "code",
   "execution_count": 7,
   "outputs": [
    {
     "name": "stdout",
     "output_type": "stream",
     "text": [
      "{'bleu': 0.0, 'precisions': [0.45, 0.05454545454545454, 0.0, 0.0], 'brevity_penalty': 1.0, 'length_ratio': 1.5, 'translation_length': 60, 'reference_length': 40}\n"
     ]
    }
   ],
   "source": [
    "# Experiment 4\n",
    "predictions = [\n",
    "    'A small child at the bottom of a slide has hair sticking up .',\n",
    "    'A boy in red slides down an inflatable ride .',\n",
    "    'A small white dog is jumping over a branch on the ground covered with leaves .',\n",
    "    'A girl going down a slide .',\n",
    "    'A child with wild hair and sunglasses getting off a blue slide .'\n",
    "]\n",
    "\n",
    "results = bleu.compute(predictions=predictions, references=references*len(predictions))\n",
    "print(results)"
   ],
   "metadata": {
    "collapsed": false
   }
  },
  {
   "cell_type": "code",
   "execution_count": 8,
   "outputs": [
    {
     "name": "stdout",
     "output_type": "stream",
     "text": [
      "{'bleu': 0.36578507569491475, 'precisions': [0.6153846153846154, 0.3333333333333333, 0.2909090909090909, 0.3], 'brevity_penalty': 1.0, 'length_ratio': 1.625, 'translation_length': 65, 'reference_length': 40}\n"
     ]
    }
   ],
   "source": [
    "# Experiment 5\n",
    "predictions = [\n",
    "    'A woman watches her child play with a pair of sunglasses against a picture window .',\n",
    "    'Person watching a child as they play .',\n",
    "    'A laughing young boy is near a swimming pool .',\n",
    "    'A child is looking through a pretend telescope on playground equipment in front of a blue sky .',\n",
    "    'A child with wild hair and sunglasses getting off a blue slide .'\n",
    "]\n",
    "\n",
    "results = bleu.compute(predictions=predictions, references=references*len(predictions))\n",
    "print(results)"
   ],
   "metadata": {
    "collapsed": false
   }
  },
  {
   "cell_type": "code",
   "execution_count": 9,
   "outputs": [
    {
     "name": "stdout",
     "output_type": "stream",
     "text": [
      "{'bleu': 0.2644225691733554, 'precisions': [0.5671641791044776, 0.2903225806451613, 0.19298245614035087, 0.15384615384615385], 'brevity_penalty': 1.0, 'length_ratio': 1.675, 'translation_length': 67, 'reference_length': 40}\n"
     ]
    }
   ],
   "source": [
    "# Experiment 6\n",
    "predictions = [\n",
    "    'A young person with red-hair and a green shirt peers into his telescope .',\n",
    "    'A little toddler trying to look through a scope but ca n\\'t reach it .',\n",
    "    'A child looking through a telescope on a playground .',\n",
    "    'A boy has climbed to the top of a slide .',\n",
    "    'A man in a blue shirt is holding a young boy and looking through a telescope .'\n",
    "]\n",
    "\n",
    "results = bleu.compute(predictions=predictions, references=references*len(predictions))\n",
    "print(results)"
   ],
   "metadata": {
    "collapsed": false
   }
  },
  {
   "cell_type": "markdown",
   "source": [
    "| Experiment | Bleu Score          |\n",
    "|------------|---------------------|\n",
    "| 0 | 0.19144753383270305 |\n",
    "| 1 | 0                   |\n",
    "| 2 | 0                   |\n",
    "| 3 | 0                   |\n",
    "| 4 | 0                   |\n",
    "| 5 | 0.36578507569491475 |\n",
    "| 6 | 0.2644225691733554  |"
   ],
   "metadata": {
    "collapsed": false
   }
  }
 ],
 "metadata": {
  "kernelspec": {
   "display_name": "Python 3",
   "language": "python",
   "name": "python3"
  },
  "language_info": {
   "codemirror_mode": {
    "name": "ipython",
    "version": 2
   },
   "file_extension": ".py",
   "mimetype": "text/x-python",
   "name": "python",
   "nbconvert_exporter": "python",
   "pygments_lexer": "ipython2",
   "version": "2.7.6"
  }
 },
 "nbformat": 4,
 "nbformat_minor": 0
}
